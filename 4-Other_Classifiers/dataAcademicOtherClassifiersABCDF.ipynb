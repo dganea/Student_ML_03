{
 "cells": [
  {
   "cell_type": "code",
   "execution_count": 1,
   "metadata": {},
   "outputs": [
    {
     "name": "stdout",
     "output_type": "stream",
     "text": [
      "Loading libraries    ...\n"
     ]
    }
   ],
   "source": [
    "# import the necessary packages\n",
    "import pandas as pd\n",
    "from sklearn.neighbors import KNeighborsClassifier\n",
    "from sklearn.linear_model import LogisticRegression\n",
    "from sklearn.svm import SVC\n",
    "from sklearn.ensemble import RandomForestClassifier, AdaBoostClassifier\n",
    "from sklearn.model_selection import train_test_split, cross_val_score\n",
    "from sklearn.metrics import accuracy_score,precision_score,confusion_matrix,classification_report, precision_recall_curve\n",
    "import numpy as np\n",
    "\n",
    "print(\"Loading libraries    ...\")"
   ]
  },
  {
   "cell_type": "code",
   "execution_count": 2,
   "metadata": {},
   "outputs": [
    {
     "name": "stdout",
     "output_type": "stream",
     "text": [
      "Features shape: (20655, 86)\n",
      "Labels shape: (20655,)\n"
     ]
    }
   ],
   "source": [
    "# Split your training and test data\n",
    "\n",
    "# Load the data from the file\n",
    "# File is in the ../Data directory\n",
    "# File name is \"data_academic_ready.csv\"\n",
    "\n",
    "cleanedStudentsGradesDf = pd.read_csv(\"../data/data_academic_readyABCDF.csv\")\n",
    "cleanedStudentsGradesDf.head()\n",
    "\n",
    "# Divide the X and y coordinates into two dataframes for training. gradingScale can be the labels dataframe\n",
    "# and the rest can be the features dataframe\n",
    "gradingScaleLabelsDf = cleanedStudentsGradesDf['GRADE']\n",
    "gradingScaleLabelsDf.head()\n",
    "\n",
    "featuresDf = cleanedStudentsGradesDf.drop(['GRADE', 'Unnamed: 0'], axis=1)\n",
    "featuresDf.head()\n",
    "\n",
    "# Check the shape of the features and labels dataframes\n",
    "print(\"Features shape:\", featuresDf.shape)\n",
    "print(\"Labels shape:\", gradingScaleLabelsDf.shape)\n",
    "\n",
    "# Ensure that the features and labels dataframes have the same number of rows\n",
    "if featuresDf.shape[0] != gradingScaleLabelsDf.shape[0]:\n",
    "    raise ValueError(\"Number of rows in features and labels dataframes are not equal.\")\n",
    "\n",
    "# Split the data into training and testing sets\n",
    "X_train, X_test, y_train, y_test = train_test_split(featuresDf, gradingScaleLabelsDf, test_size=0.3)"
   ]
  },
  {
   "cell_type": "code",
   "execution_count": 3,
   "metadata": {},
   "outputs": [],
   "source": [
    "X_train = np.ascontiguousarray(X_train)\n",
    "y_train = np.ascontiguousarray(y_train)\n",
    "X_test = np.ascontiguousarray(X_test)\n",
    "y_test = np.ascontiguousarray(y_test)"
   ]
  },
  {
   "cell_type": "code",
   "execution_count": 4,
   "metadata": {},
   "outputs": [],
   "source": [
    "# Build the classifiers list\n",
    "C = 10\n",
    "# Create different classifiers.\n",
    "classifiers = {\n",
    "    'Linear SVC': SVC(kernel='linear', C=C, probability=True,random_state=0),\n",
    "    'KNN classifier': KNeighborsClassifier(C),\n",
    "    'SVC': SVC(),\n",
    "    'RFST': RandomForestClassifier(n_estimators=100),\n",
    "    'ADA': AdaBoostClassifier(n_estimators=100)\n",
    "}"
   ]
  },
  {
   "cell_type": "code",
   "execution_count": 5,
   "metadata": {},
   "outputs": [
    {
     "name": "stdout",
     "output_type": "stream",
     "text": [
      "Accuracy (train) for Linear SVC: 74.9% \n",
      "              precision    recall  f1-score   support\n",
      "\n",
      "           A       0.90      0.89      0.90      1260\n",
      "           B       0.71      0.73      0.72      1262\n",
      "           C       0.59      0.62      0.61      1223\n",
      "           D       0.72      0.61      0.66      1258\n",
      "           F       0.83      0.90      0.86      1194\n",
      "\n",
      "    accuracy                           0.75      6197\n",
      "   macro avg       0.75      0.75      0.75      6197\n",
      "weighted avg       0.75      0.75      0.75      6197\n",
      "\n",
      "Accuracy (train) for KNN classifier: 71.5% \n",
      "              precision    recall  f1-score   support\n",
      "\n",
      "           A       0.89      0.82      0.85      1260\n",
      "           B       0.70      0.63      0.66      1262\n",
      "           C       0.60      0.70      0.65      1223\n",
      "           D       0.60      0.75      0.67      1258\n",
      "           F       0.89      0.68      0.77      1194\n",
      "\n",
      "    accuracy                           0.71      6197\n",
      "   macro avg       0.74      0.71      0.72      6197\n",
      "weighted avg       0.73      0.71      0.72      6197\n",
      "\n",
      "Accuracy (train) for SVC: 77.0% \n",
      "              precision    recall  f1-score   support\n",
      "\n",
      "           A       0.91      0.89      0.90      1260\n",
      "           B       0.73      0.76      0.74      1262\n",
      "           C       0.64      0.66      0.65      1223\n",
      "           D       0.72      0.68      0.70      1258\n",
      "           F       0.85      0.85      0.85      1194\n",
      "\n",
      "    accuracy                           0.77      6197\n",
      "   macro avg       0.77      0.77      0.77      6197\n",
      "weighted avg       0.77      0.77      0.77      6197\n",
      "\n",
      "Accuracy (train) for RFST: 80.4% \n",
      "              precision    recall  f1-score   support\n",
      "\n",
      "           A       0.93      0.88      0.90      1260\n",
      "           B       0.75      0.80      0.78      1262\n",
      "           C       0.72      0.75      0.74      1223\n",
      "           D       0.75      0.79      0.77      1258\n",
      "           F       0.89      0.80      0.84      1194\n",
      "\n",
      "    accuracy                           0.80      6197\n",
      "   macro avg       0.81      0.80      0.81      6197\n",
      "weighted avg       0.81      0.80      0.81      6197\n",
      "\n",
      "Accuracy (train) for ADA: 60.2% \n",
      "              precision    recall  f1-score   support\n",
      "\n",
      "           A       0.87      0.84      0.86      1260\n",
      "           B       0.68      0.68      0.68      1262\n",
      "           C       0.52      0.62      0.57      1223\n",
      "           D       0.40      0.53      0.46      1258\n",
      "           F       0.68      0.32      0.44      1194\n",
      "\n",
      "    accuracy                           0.60      6197\n",
      "   macro avg       0.63      0.60      0.60      6197\n",
      "weighted avg       0.63      0.60      0.60      6197\n",
      "\n"
     ]
    }
   ],
   "source": [
    "n_classifiers = len(classifiers)\n",
    "\n",
    "for index, (name, classifier) in enumerate(classifiers.items()):\n",
    "    classifier.fit(X_train, np.ravel(y_train))\n",
    "\n",
    "    y_pred = classifier.predict(X_test)\n",
    "    accuracy = accuracy_score(y_test, y_pred)\n",
    "    print(\"Accuracy (train) for %s: %0.1f%% \" % (name, accuracy * 100))\n",
    "    print(classification_report(y_test,y_pred))"
   ]
  },
  {
   "cell_type": "markdown",
   "metadata": {},
   "source": [
    "### Classifiers Accuracy Comparision\n",
    "\n",
    "\n",
    "| Classifier | Accuracy [%] |\n",
    "|-----------------|-----------------|\n",
    "| RFST | 80.4 |\n",
    "| SVC | 77.0 |\n",
    "| Linear SVC | 74.9 |\n",
    "| KNN | 71.5 |\n",
    "| ADA | 60.2 |"
   ]
  },
  {
   "cell_type": "code",
   "execution_count": 6,
   "metadata": {},
   "outputs": [
    {
     "name": "stdout",
     "output_type": "stream",
     "text": [
      "Accuracy: 0.8024850734226239\n"
     ]
    }
   ],
   "source": [
    "# hyperparameter tuning for a Random Forest classifier\n",
    "\n",
    "from sklearn.ensemble import RandomForestClassifier\n",
    "from sklearn.model_selection import train_test_split, GridSearchCV\n",
    "from sklearn.metrics import accuracy_score\n",
    "\n",
    "# Assuming X_train, X_test, y_train, y_test are your training and testing data\n",
    "# Define the parameter grid\n",
    "param_grid = {\n",
    "    'n_estimators': [100, 200, 300],\n",
    "    'max_depth': [None, 10, 20],\n",
    "    'min_samples_split': [2, 5, 10]\n",
    "}\n",
    "\n",
    "# Create a Random Forest classifier\n",
    "rf_clf = RandomForestClassifier(random_state=42)\n",
    "\n",
    "# Perform grid search cross-validation\n",
    "grid_search = GridSearchCV(estimator=rf_clf, param_grid=param_grid, cv=5, scoring='accuracy')\n",
    "grid_search.fit(X_train, y_train)\n",
    "\n",
    "# Get the best parameters\n",
    "best_params = grid_search.best_params_\n",
    "\n",
    "# Initialize a Random Forest classifier with the best parameters\n",
    "best_rf_clf = RandomForestClassifier(random_state=42, **best_params)\n",
    "\n",
    "# Train the model on the entire training set\n",
    "best_rf_clf.fit(X_train, y_train)\n",
    "\n",
    "# Predict the labels on the test set\n",
    "y_pred = best_rf_clf.predict(X_test)\n",
    "\n",
    "# Evaluate model accuracy\n",
    "accuracy = accuracy_score(y_test, y_pred)\n",
    "print(\"Accuracy:\", accuracy)\n"
   ]
  },
  {
   "cell_type": "markdown",
   "metadata": {},
   "source": [
    "* Note hyperparamter tunning for Random forest improved the accuracy insignifiantly. 80.2% after tunning comparing with 80.4% initial run.\n",
    "* Processing time: 6 minutes, 21 seconds on 14 Core CPUs, 16 GB memory;"
   ]
  },
  {
   "cell_type": "code",
   "execution_count": 7,
   "metadata": {},
   "outputs": [
    {
     "name": "stdout",
     "output_type": "stream",
     "text": [
      "Accuracy: 0.786509601420042\n"
     ]
    }
   ],
   "source": [
    "# hyperparameter tuning for SVC classifier \n",
    "\n",
    "from sklearn.svm import SVC\n",
    "from sklearn.model_selection import train_test_split, GridSearchCV\n",
    "from sklearn.metrics import accuracy_score\n",
    "\n",
    "# Assuming X_train, X_test, y_train, y_test are your training and testing data\n",
    "# Define the parameter grid\n",
    "param_grid = {\n",
    "    'C': [0.1, 1, 10],              # Regularization parameter\n",
    "    'kernel': ['linear', 'rbf'],    # Kernel type\n",
    "    'gamma': ['scale', 'auto']      # Kernel coefficient for 'rbf' kernel\n",
    "}\n",
    "\n",
    "# Create an SVC classifier\n",
    "svc_clf = SVC()\n",
    "\n",
    "# Perform grid search cross-validation\n",
    "grid_search = GridSearchCV(estimator=svc_clf, param_grid=param_grid, cv=5, scoring='accuracy')\n",
    "grid_search.fit(X_train, y_train)\n",
    "\n",
    "# Get the best parameters\n",
    "best_params = grid_search.best_params_\n",
    "\n",
    "# Initialize an SVC classifier with the best parameters\n",
    "best_svc_clf = SVC(**best_params)\n",
    "\n",
    "# Train the model on the entire training set\n",
    "best_svc_clf.fit(X_train, y_train)\n",
    "\n",
    "# Predict the labels on the test set\n",
    "y_pred = best_svc_clf.predict(X_test)\n",
    "\n",
    "# Evaluate model accuracy\n",
    "accuracy = accuracy_score(y_test, y_pred)\n",
    "print(\"Accuracy:\", accuracy)\n"
   ]
  },
  {
   "cell_type": "code",
   "execution_count": 8,
   "metadata": {},
   "outputs": [
    {
     "name": "stdout",
     "output_type": "stream",
     "text": [
      "Accuracy: 0.7621429724060029\n"
     ]
    }
   ],
   "source": [
    "# hyperparameter tuning for KNN classifier \n",
    "\n",
    "from sklearn.neighbors import KNeighborsClassifier\n",
    "from sklearn.model_selection import train_test_split, GridSearchCV\n",
    "from sklearn.metrics import accuracy_score\n",
    "\n",
    "# Assuming X_train, X_test, y_train, y_test are your training and testing data\n",
    "# Define the parameter grid\n",
    "param_grid = {\n",
    "    'n_neighbors': [3, 5, 7, 9],      # Number of neighbors to consider\n",
    "    'weights': ['uniform', 'distance'],  # Weighting scheme for predictions\n",
    "    'p': [1, 2]                        # Power parameter for the Minkowski distance metric\n",
    "}\n",
    "\n",
    "# Create a KNN classifier\n",
    "knn_clf = KNeighborsClassifier()\n",
    "\n",
    "# Perform grid search cross-validation\n",
    "grid_search = GridSearchCV(estimator=knn_clf, param_grid=param_grid, cv=5, scoring='accuracy')\n",
    "grid_search.fit(X_train, y_train)\n",
    "\n",
    "# Get the best parameters\n",
    "best_params = grid_search.best_params_\n",
    "\n",
    "# Initialize a KNN classifier with the best parameters\n",
    "best_knn_clf = KNeighborsClassifier(**best_params)\n",
    "\n",
    "# Train the model on the entire training set\n",
    "best_knn_clf.fit(X_train, y_train)\n",
    "\n",
    "# Predict the labels on the test set\n",
    "y_pred = best_knn_clf.predict(X_test)\n",
    "\n",
    "# Evaluate model accuracy\n",
    "accuracy = accuracy_score(y_test, y_pred)\n",
    "print(\"Accuracy:\", accuracy)\n",
    "\n"
   ]
  },
  {
   "cell_type": "code",
   "execution_count": 9,
   "metadata": {},
   "outputs": [
    {
     "name": "stdout",
     "output_type": "stream",
     "text": [
      "Accuracy (train) for RFST: 79.6% \n",
      "              precision    recall  f1-score   support\n",
      "\n",
      "           A       0.92      0.88      0.90      1260\n",
      "           B       0.76      0.79      0.77      1262\n",
      "           C       0.70      0.74      0.72      1223\n",
      "           D       0.74      0.77      0.75      1258\n",
      "           F       0.89      0.80      0.84      1194\n",
      "\n",
      "    accuracy                           0.80      6197\n",
      "   macro avg       0.80      0.80      0.80      6197\n",
      "weighted avg       0.80      0.80      0.80      6197\n",
      "\n"
     ]
    }
   ],
   "source": [
    "# Re-testing Random Forest classifier\n",
    "\n",
    "RFST = RandomForestClassifier(n_estimators=100)\n",
    "RFST.fit(X_train, np.ravel(y_train))\n",
    "y_pred = RFST.predict(X_test)\n",
    "accuracy = accuracy_score(y_test, y_pred)\n",
    "print(\"Accuracy (train) for RFST: %0.1f%% \" % (accuracy * 100))\n",
    "print(classification_report(y_test,y_pred))"
   ]
  },
  {
   "cell_type": "code",
   "execution_count": 10,
   "metadata": {},
   "outputs": [
    {
     "name": "stdout",
     "output_type": "stream",
     "text": [
      "RangeIndex(start=0, stop=86, step=1)\n",
      "Student Data: [4, 11, 60, 64, 69, 81, 85]\n",
      "Grade: 0    A\n",
      "Name: 50, dtype: object\n"
     ]
    }
   ],
   "source": [
    "# Convert the numpy array to a pandas DataFrame\n",
    "X_test_df = pd.DataFrame(X_test)\n",
    "y_test_df = pd.DataFrame(y_test)\n",
    "\n",
    "# print(X_test_df.info())\n",
    "# print(X_test_df.head())\n",
    "print(X_test_df.columns)\n",
    "\n",
    "# Test the RFST model with a student data at location #50 in the test set\n",
    "# print(f'Student Data: {X_test_df.iloc[50][X_test_df.iloc[50]!=0].keys()}')\n",
    "print(f'Student Data: {X_test_df.iloc[50][X_test_df.iloc[50]!=0].index.tolist()}')\n",
    "print(f'Grade: {y_test_df.iloc[50]}')"
   ]
  },
  {
   "cell_type": "code",
   "execution_count": 11,
   "metadata": {},
   "outputs": [
    {
     "data": {
      "text/html": [
       "<div>\n",
       "<style scoped>\n",
       "    .dataframe tbody tr th:only-of-type {\n",
       "        vertical-align: middle;\n",
       "    }\n",
       "\n",
       "    .dataframe tbody tr th {\n",
       "        vertical-align: top;\n",
       "    }\n",
       "\n",
       "    .dataframe thead th {\n",
       "        text-align: right;\n",
       "    }\n",
       "</style>\n",
       "<table border=\"1\" class=\"dataframe\">\n",
       "  <thead>\n",
       "    <tr style=\"text-align: right;\">\n",
       "      <th></th>\n",
       "      <th>0</th>\n",
       "    </tr>\n",
       "  </thead>\n",
       "  <tbody>\n",
       "    <tr>\n",
       "      <th>A</th>\n",
       "      <td>0.83</td>\n",
       "    </tr>\n",
       "    <tr>\n",
       "      <th>C</th>\n",
       "      <td>0.11</td>\n",
       "    </tr>\n",
       "    <tr>\n",
       "      <th>B</th>\n",
       "      <td>0.06</td>\n",
       "    </tr>\n",
       "    <tr>\n",
       "      <th>D</th>\n",
       "      <td>0.00</td>\n",
       "    </tr>\n",
       "    <tr>\n",
       "      <th>F</th>\n",
       "      <td>0.00</td>\n",
       "    </tr>\n",
       "  </tbody>\n",
       "</table>\n",
       "</div>"
      ],
      "text/plain": [
       "      0\n",
       "A  0.83\n",
       "C  0.11\n",
       "B  0.06\n",
       "D  0.00\n",
       "F  0.00"
      ]
     },
     "execution_count": 11,
     "metadata": {},
     "output_type": "execute_result"
    }
   ],
   "source": [
    "test= X_test_df.iloc[50].values.reshape(-1, 1).T\n",
    "proba = RFST.predict_proba(test)\n",
    "classes = RFST.classes_\n",
    "resultdf = pd.DataFrame(data=proba, columns=classes)\n",
    "\n",
    "topPrediction = resultdf.T.sort_values(by=[0], ascending = [False])\n",
    "topPrediction.head()"
   ]
  },
  {
   "cell_type": "code",
   "execution_count": 12,
   "metadata": {},
   "outputs": [
    {
     "name": "stdout",
     "output_type": "stream",
     "text": [
      "Randomly Selected Test Records and Predictions:\n",
      "                               Column Names Actual Value Predicted Value\n",
      "0         2; 11; 37; 60; 66; 71; 76; 81; 85            A               A\n",
      "1                 5; 11; 37; 60; 67; 73; 81            C               B\n",
      "2             2; 11; 25; 60; 65; 67; 72; 78            D               D\n",
      "3                    11; 13; 61; 68; 74; 77            C               C\n",
      "4                            34; 61; 68; 79            C               C\n",
      "5                    11; 61; 66; 67; 72; 80            D               C\n",
      "6  1; 9; 11; 12; 14; 48; 61; 66; 69; 74; 79            B               B\n",
      "7                     3; 11; 60; 66; 72; 79            D               D\n",
      "8      1; 8; 11; 14; 32; 61; 66; 70; 75; 79            B               B\n",
      "9                 5; 11; 60; 66; 67; 72; 81            D               D\n"
     ]
    }
   ],
   "source": [
    "import numpy as np\n",
    "import pandas as pd\n",
    "from sklearn.ensemble import RandomForestClassifier\n",
    "from sklearn.metrics import accuracy_score\n",
    "from sklearn.model_selection import train_test_split\n",
    "\n",
    "# Assuming X_train, X_test, y_train, y_test are your training and testing data\n",
    "\n",
    "# Train the Random Forest classifier\n",
    "RFST = RandomForestClassifier(n_estimators=100)\n",
    "RFST.fit(X_train, np.ravel(y_train))\n",
    "\n",
    "# Select 10 random indices\n",
    "random_indices = np.random.choice(X_test.shape[0], size=10, replace=False)\n",
    "\n",
    "# Extract the corresponding records from the test dataset\n",
    "if isinstance(X_test, pd.DataFrame):\n",
    "    X_sample = X_test.iloc[random_indices]\n",
    "else:\n",
    "    X_sample = pd.DataFrame(X_test).iloc[random_indices]\n",
    "\n",
    "y_sample_actual = y_test[random_indices]\n",
    "\n",
    "# Predict the labels for the selected records\n",
    "y_sample_pred = RFST.predict(X_sample)\n",
    "\n",
    "# Create a DataFrame to display the results\n",
    "results_df = pd.DataFrame(index=range(10))\n",
    "results_df['Column Names'] = ['; '.join(map(str, X_sample.iloc[i][X_sample.iloc[i] != 0].index.tolist())) for i in range(10)]\n",
    "results_df['Actual Value'] = y_sample_actual\n",
    "results_df['Predicted Value'] = y_sample_pred\n",
    "\n",
    "# Display the results\n",
    "print(\"Randomly Selected Test Records and Predictions:\")\n",
    "print(results_df)\n"
   ]
  },
  {
   "cell_type": "code",
   "execution_count": null,
   "metadata": {},
   "outputs": [],
   "source": [
    "print(featuresDf.columns)"
   ]
  },
  {
   "cell_type": "code",
   "execution_count": 13,
   "metadata": {},
   "outputs": [
    {
     "name": "stdout",
     "output_type": "stream",
     "text": [
      "Randomly Selected Test Records and Predictions:\n",
      "                                        Column Names Actual Value  \\\n",
      "0  SCHOOL_TYPE_TECHNICAL; UNIVERSITY_UNIVERSIDAD ...            D   \n",
      "1  STRATUM_Stratum 2; SISBEN_Level 2; CAR_Yes; SC...            D   \n",
      "2  STRATUM_Stratum 4; CAR_Yes; SCHOOL_NAT_PRIVATE...            A   \n",
      "3  STRATUM_Stratum 1; SISBEN_Level 1; MIC_OVEN_No...            F   \n",
      "4  STRATUM_Stratum 3; CAR_Yes; SCHOOL_NAT_PRIVATE...            B   \n",
      "5  STRATUM_Stratum 2; SISBEN_Level 3; MOBILE_No; ...            D   \n",
      "6  STRATUM_Stratum 1; SISBEN_Level 1; MOBILE_No; ...            C   \n",
      "7  SCHOOL_NAT_PRIVATE; QR_PRO_C; CR_PRO_D; CC_PRO...            B   \n",
      "8  STRATUM_Stratum 4; CAR_Yes; SCHOOL_NAT_PUBLIC;...            B   \n",
      "9  STRATUM_Stratum 3; CAR_Yes; UNIVERSITY_UNIVERS...            B   \n",
      "\n",
      "  Predicted Value  \n",
      "0               D  \n",
      "1               D  \n",
      "2               A  \n",
      "3               F  \n",
      "4               B  \n",
      "5               C  \n",
      "6               C  \n",
      "7               B  \n",
      "8               B  \n",
      "9               B  \n"
     ]
    }
   ],
   "source": [
    "# Same procedure as above but with the original featuresD DataFrame and exporting the results to a csv file\n",
    "\n",
    "import numpy as np\n",
    "import pandas as pd\n",
    "from sklearn.ensemble import RandomForestClassifier\n",
    "from sklearn.metrics import accuracy_score\n",
    "from sklearn.model_selection import train_test_split\n",
    "\n",
    "# Assuming X_train, X_test, y_train, y_test are your training and testing data\n",
    "# Assuming featuresD is the original DataFrame containing the feature names\n",
    "\n",
    "# Train the Random Forest classifier\n",
    "RFST = RandomForestClassifier(n_estimators=100)\n",
    "RFST.fit(X_train, np.ravel(y_train))\n",
    "\n",
    "# Select 10 random indices\n",
    "random_indices = np.random.choice(X_test.shape[0], size=10, replace=False)\n",
    "\n",
    "# Extract the corresponding records from the test dataset\n",
    "if isinstance(X_test, pd.DataFrame):\n",
    "    X_sample = X_test.iloc[random_indices]\n",
    "else:\n",
    "    X_sample = pd.DataFrame(X_test).iloc[random_indices]\n",
    "\n",
    "y_sample_actual = y_test[random_indices]\n",
    "\n",
    "# Predict the labels for the selected records\n",
    "y_sample_pred = RFST.predict(X_sample)\n",
    "\n",
    "# Get the column names from the original featuresD dataset\n",
    "column_names = featuresDf.columns\n",
    "\n",
    "# Create a DataFrame to display the results\n",
    "results_df = pd.DataFrame(index=range(10))\n",
    "results_df['Column Names'] = ['; '.join(column_names[X_sample.iloc[i][X_sample.iloc[i] != 0].index]) for i in range(10)]\n",
    "results_df['Actual Value'] = y_sample_actual\n",
    "results_df['Predicted Value'] = y_sample_pred\n",
    "\n",
    "# Display the results\n",
    "print(\"Randomly Selected Test Records and Predictions:\")\n",
    "print(results_df.head(10))\n",
    "\n",
    "# export results to a csv file\n",
    "results_df.to_csv(\"../Data/10_random_results_compared.csv\", index=False)\n"
   ]
  }
 ],
 "metadata": {
  "kernelspec": {
   "display_name": "Python_3-12-1",
   "language": "python",
   "name": "python3"
  },
  "language_info": {
   "codemirror_mode": {
    "name": "ipython",
    "version": 3
   },
   "file_extension": ".py",
   "mimetype": "text/x-python",
   "name": "python",
   "nbconvert_exporter": "python",
   "pygments_lexer": "ipython3",
   "version": "3.12.1"
  }
 },
 "nbformat": 4,
 "nbformat_minor": 2
}
